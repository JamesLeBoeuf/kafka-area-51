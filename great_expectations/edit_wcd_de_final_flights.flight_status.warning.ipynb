{
 "cells": [
  {
   "cell_type": "markdown",
   "id": "b678d6b2",
   "metadata": {},
   "source": [
    "# Edit Your Expectation Suite\n",
    "Use this notebook to recreate and modify your expectation suite:\n",
    "\n",
    "**Expectation Suite Name**: `wcd_de_final_flights.flight_status.warning`\n"
   ]
  },
  {
   "cell_type": "code",
   "execution_count": 1,
   "id": "cea759e0",
   "metadata": {},
   "outputs": [
    {
     "name": "stdout",
     "output_type": "stream",
     "text": [
      "2023-03-06T21:55:38+0000 - INFO - Great Expectations logging enabled at 20 level by JupyterUX module.\n",
      "2023-03-06T21:55:38+0000 - INFO - FileDataContext loading zep config\n",
      "2023-03-06T21:55:38+0000 - INFO - GxConfig.parse_yaml() failed with errors - [{'loc': ('xdatasources',), 'msg': 'field required', 'type': 'value_error.missing'}]\n",
      "2023-03-06T21:55:38+0000 - INFO - GxConfig.parse_yaml() returning empty `xdatasources`\n",
      "2023-03-06T21:55:38+0000 - INFO - Loading 'datasources' ->\n",
      "{}\n",
      "2023-03-06T21:55:38+0000 - INFO - Loaded 'datasources' ->\n",
      "{}\n",
      "Loaded ExpectationSuite \"wcd_de_final_flights.flight_status.warning\" containing 2 expectations.\n"
     ]
    },
    {
     "data": {
      "application/vnd.jupyter.widget-view+json": {
       "model_id": "d2aa999cb28d47a39aa9a5960c8a20fb",
       "version_major": 2,
       "version_minor": 0
      },
      "text/plain": [
       "Calculating Metrics:   0%|          | 0/2 [00:00<?, ?it/s]"
      ]
     },
     "metadata": {},
     "output_type": "display_data"
    },
    {
     "name": "stdout",
     "output_type": "stream",
     "text": [
      "Columns: \"record_id\", \"icao24\", \"callsign\", \"origin_country\", \"time_position\", \"last_contact\", \"longitude\", \"latitude\", \"baro_altitude\", \"on_ground\", \"velocity\", \"true_track\", \"vertical_rate\", \"sensors\", \"geo_altitude\", \"squawk\", \"spi\", \"position_source\", \"category\", \"event_time\".\n"
     ]
    },
    {
     "data": {
      "application/vnd.jupyter.widget-view+json": {
       "model_id": "c1a165bf5b744216bb74ec910fed62bf",
       "version_major": 2,
       "version_minor": 0
      },
      "text/plain": [
       "Calculating Metrics:   0%|          | 0/1 [00:00<?, ?it/s]"
      ]
     },
     "metadata": {},
     "output_type": "display_data"
    },
    {
     "data": {
      "text/html": [
       "<div>\n",
       "<style scoped>\n",
       "    .dataframe tbody tr th:only-of-type {\n",
       "        vertical-align: middle;\n",
       "    }\n",
       "\n",
       "    .dataframe tbody tr th {\n",
       "        vertical-align: top;\n",
       "    }\n",
       "\n",
       "    .dataframe thead th {\n",
       "        text-align: right;\n",
       "    }\n",
       "</style>\n",
       "<table border=\"1\" class=\"dataframe\">\n",
       "  <thead>\n",
       "    <tr style=\"text-align: right;\">\n",
       "      <th></th>\n",
       "      <th>record_id</th>\n",
       "      <th>icao24</th>\n",
       "      <th>callsign</th>\n",
       "      <th>origin_country</th>\n",
       "      <th>time_position</th>\n",
       "      <th>last_contact</th>\n",
       "      <th>longitude</th>\n",
       "      <th>latitude</th>\n",
       "      <th>baro_altitude</th>\n",
       "      <th>on_ground</th>\n",
       "      <th>velocity</th>\n",
       "      <th>true_track</th>\n",
       "      <th>vertical_rate</th>\n",
       "      <th>sensors</th>\n",
       "      <th>geo_altitude</th>\n",
       "      <th>squawk</th>\n",
       "      <th>spi</th>\n",
       "      <th>position_source</th>\n",
       "      <th>category</th>\n",
       "      <th>event_time</th>\n",
       "    </tr>\n",
       "  </thead>\n",
       "  <tbody>\n",
       "    <tr>\n",
       "      <th>0</th>\n",
       "      <td>34</td>\n",
       "      <td>acda02</td>\n",
       "      <td>AAL2940</td>\n",
       "      <td>United States</td>\n",
       "      <td>1677091964</td>\n",
       "      <td>1677091964</td>\n",
       "      <td>-116.3563</td>\n",
       "      <td>36.5355</td>\n",
       "      <td>8534.4</td>\n",
       "      <td>0</td>\n",
       "      <td>210.26</td>\n",
       "      <td>310.24</td>\n",
       "      <td>-0.33</td>\n",
       "      <td>None</td>\n",
       "      <td>8138.16</td>\n",
       "      <td>None</td>\n",
       "      <td>0</td>\n",
       "      <td>0</td>\n",
       "      <td>None</td>\n",
       "      <td>2023-02-22 18:52:47</td>\n",
       "    </tr>\n",
       "    <tr>\n",
       "      <th>1</th>\n",
       "      <td>33</td>\n",
       "      <td>a5bc22</td>\n",
       "      <td>N469ME</td>\n",
       "      <td>United States</td>\n",
       "      <td>1677091810</td>\n",
       "      <td>1677091963</td>\n",
       "      <td>-116.6757</td>\n",
       "      <td>36.7366</td>\n",
       "      <td>9144</td>\n",
       "      <td>0</td>\n",
       "      <td>110.01</td>\n",
       "      <td>318.03</td>\n",
       "      <td>0</td>\n",
       "      <td>None</td>\n",
       "      <td>8732.52</td>\n",
       "      <td>None</td>\n",
       "      <td>0</td>\n",
       "      <td>0</td>\n",
       "      <td>None</td>\n",
       "      <td>2023-02-22 18:52:47</td>\n",
       "    </tr>\n",
       "    <tr>\n",
       "      <th>2</th>\n",
       "      <td>35</td>\n",
       "      <td>a5bc22</td>\n",
       "      <td>N469ME</td>\n",
       "      <td>United States</td>\n",
       "      <td>1677091810</td>\n",
       "      <td>1677091992</td>\n",
       "      <td>-116.6757</td>\n",
       "      <td>36.7366</td>\n",
       "      <td>9144</td>\n",
       "      <td>0</td>\n",
       "      <td>106</td>\n",
       "      <td>317.95</td>\n",
       "      <td>0</td>\n",
       "      <td>None</td>\n",
       "      <td>8732.52</td>\n",
       "      <td>None</td>\n",
       "      <td>0</td>\n",
       "      <td>0</td>\n",
       "      <td>None</td>\n",
       "      <td>2023-02-22 18:53:17</td>\n",
       "    </tr>\n",
       "    <tr>\n",
       "      <th>3</th>\n",
       "      <td>36</td>\n",
       "      <td>acda02</td>\n",
       "      <td>AAL2940</td>\n",
       "      <td>United States</td>\n",
       "      <td>1677091993</td>\n",
       "      <td>1677091993</td>\n",
       "      <td>-116.4073</td>\n",
       "      <td>36.5703</td>\n",
       "      <td>8534.4</td>\n",
       "      <td>0</td>\n",
       "      <td>209.92</td>\n",
       "      <td>310.13</td>\n",
       "      <td>0</td>\n",
       "      <td>None</td>\n",
       "      <td>8138.16</td>\n",
       "      <td>None</td>\n",
       "      <td>0</td>\n",
       "      <td>0</td>\n",
       "      <td>None</td>\n",
       "      <td>2023-02-22 18:53:17</td>\n",
       "    </tr>\n",
       "    <tr>\n",
       "      <th>4</th>\n",
       "      <td>37</td>\n",
       "      <td>a5bc22</td>\n",
       "      <td>N469ME</td>\n",
       "      <td>United States</td>\n",
       "      <td>1677091810</td>\n",
       "      <td>1677092022</td>\n",
       "      <td>-116.6757</td>\n",
       "      <td>36.7366</td>\n",
       "      <td>9144</td>\n",
       "      <td>0</td>\n",
       "      <td>104.89</td>\n",
       "      <td>317.78</td>\n",
       "      <td>-0.33</td>\n",
       "      <td>None</td>\n",
       "      <td>8732.52</td>\n",
       "      <td>None</td>\n",
       "      <td>0</td>\n",
       "      <td>0</td>\n",
       "      <td>None</td>\n",
       "      <td>2023-02-22 18:53:47</td>\n",
       "    </tr>\n",
       "  </tbody>\n",
       "</table>\n",
       "</div>"
      ],
      "text/plain": [
       "   record_id  icao24  callsign origin_country  time_position  last_contact  \\\n",
       "0         34  acda02  AAL2940   United States     1677091964    1677091964   \n",
       "1         33  a5bc22  N469ME    United States     1677091810    1677091963   \n",
       "2         35  a5bc22  N469ME    United States     1677091810    1677091992   \n",
       "3         36  acda02  AAL2940   United States     1677091993    1677091993   \n",
       "4         37  a5bc22  N469ME    United States     1677091810    1677092022   \n",
       "\n",
       "   longitude  latitude baro_altitude  on_ground velocity  true_track  \\\n",
       "0  -116.3563   36.5355        8534.4          0   210.26      310.24   \n",
       "1  -116.6757   36.7366          9144          0   110.01      318.03   \n",
       "2  -116.6757   36.7366          9144          0      106      317.95   \n",
       "3  -116.4073   36.5703        8534.4          0   209.92      310.13   \n",
       "4  -116.6757   36.7366          9144          0   104.89      317.78   \n",
       "\n",
       "  vertical_rate sensors geo_altitude squawk  spi  position_source category  \\\n",
       "0         -0.33    None      8138.16   None    0                0     None   \n",
       "1             0    None      8732.52   None    0                0     None   \n",
       "2             0    None      8732.52   None    0                0     None   \n",
       "3             0    None      8138.16   None    0                0     None   \n",
       "4         -0.33    None      8732.52   None    0                0     None   \n",
       "\n",
       "           event_time  \n",
       "0 2023-02-22 18:52:47  \n",
       "1 2023-02-22 18:52:47  \n",
       "2 2023-02-22 18:53:17  \n",
       "3 2023-02-22 18:53:17  \n",
       "4 2023-02-22 18:53:47  "
      ]
     },
     "execution_count": 1,
     "metadata": {},
     "output_type": "execute_result"
    }
   ],
   "source": [
    "import datetime\n",
    "\n",
    "import pandas as pd\n",
    "\n",
    "import great_expectations as gx\n",
    "import great_expectations.jupyter_ux\n",
    "from great_expectations.core.batch import BatchRequest\n",
    "from great_expectations.checkpoint import SimpleCheckpoint\n",
    "from great_expectations.exceptions import DataContextError\n",
    "\n",
    "context = gx.get_context()\n",
    "\n",
    "# Note that if you modify this batch request, you may save the new version as a .json file\n",
    "#  to pass in later via the --batch-request option\n",
    "batch_request = {'datasource_name': 'wcd_de_final', 'data_connector_name': 'default_inferred_data_connector_name', 'data_asset_name': 'wcd_de_final_flights.flight_status', 'limit': 1000}\n",
    "\n",
    "\n",
    "# Feel free to change the name of your suite here. Renaming this will not remove the other one.\n",
    "expectation_suite_name = \"wcd_de_final_flights.flight_status.warning\"\n",
    "try:\n",
    "    suite = context.get_expectation_suite(expectation_suite_name=expectation_suite_name)\n",
    "    print(f'Loaded ExpectationSuite \"{suite.expectation_suite_name}\" containing {len(suite.expectations)} expectations.')\n",
    "except DataContextError:\n",
    "    suite = context.create_expectation_suite(expectation_suite_name=expectation_suite_name)\n",
    "    print(f'Created ExpectationSuite \"{suite.expectation_suite_name}\".')\n",
    "\n",
    "\n",
    "validator = context.get_validator(\n",
    "    batch_request=BatchRequest(**batch_request),\n",
    "    expectation_suite_name=expectation_suite_name\n",
    ")\n",
    "column_names = [f'\"{column_name}\"' for column_name in validator.columns()]\n",
    "print(f\"Columns: {', '.join(column_names)}.\")\n",
    "validator.head(n_rows=5, fetch_all=False)"
   ]
  },
  {
   "cell_type": "markdown",
   "id": "aa04f13b",
   "metadata": {},
   "source": [
    "## Create & Edit Expectations\n",
    "\n",
    "\n",
    "Add expectations by calling specific expectation methods on the `validator` object. They all begin with `.expect_` which makes autocompleting easy using tab.\n",
    "\n",
    "Because you selected interactive mode, you are now creating or editing an Expectation Suite with validator feedback from the sample batch of data that you specified (see `batch_request`).\n",
    "\n",
    "Note that if you select manual mode you may still create or edit an Expectation Suite directly, without feedback from the `validator`. See our documentation for more info and examples: [How to create a new Expectation Suite without a sample batch](https://docs.greatexpectations.io/docs/guides/expectations/how_to_create_and_edit_expectations_based_on_domain_knowledge_without_inspecting_data_directly).\n",
    "\n",
    "\n",
    "\n",
    "You can see all the available expectations in the **[expectation gallery](https://greatexpectations.io/expectations)**."
   ]
  },
  {
   "cell_type": "markdown",
   "id": "3ead277f",
   "metadata": {},
   "source": [
    "### Table Expectation(s)"
   ]
  },
  {
   "cell_type": "markdown",
   "id": "40b14061",
   "metadata": {},
   "source": [
    "No table level expectations are in this suite. Feel free to add some here.\n",
    "\n",
    "They all begin with `validator.expect_table_...`.\n"
   ]
  },
  {
   "cell_type": "code",
   "execution_count": 2,
   "id": "42f29380",
   "metadata": {},
   "outputs": [
    {
     "data": {
      "application/vnd.jupyter.widget-view+json": {
       "model_id": "dfe76173cf4f47a09fe3c8b2ecb53914",
       "version_major": 2,
       "version_minor": 0
      },
      "text/plain": [
       "Calculating Metrics:   0%|          | 0/3 [00:00<?, ?it/s]"
      ]
     },
     "metadata": {},
     "output_type": "display_data"
    },
    {
     "data": {
      "text/plain": [
       "{\n",
       "  \"success\": true,\n",
       "  \"exception_info\": {\n",
       "    \"raised_exception\": false,\n",
       "    \"exception_traceback\": null,\n",
       "    \"exception_message\": null\n",
       "  },\n",
       "  \"result\": {\n",
       "    \"observed_value\": 20\n",
       "  },\n",
       "  \"meta\": {}\n",
       "}"
      ]
     },
     "execution_count": 2,
     "metadata": {},
     "output_type": "execute_result"
    }
   ],
   "source": [
    "validator.expect_table_column_count_to_be_between(min_value = 1, max_value = 100000)"
   ]
  },
  {
   "cell_type": "markdown",
   "id": "ad5834d1",
   "metadata": {},
   "source": [
    "### Column Expectation(s)"
   ]
  },
  {
   "cell_type": "markdown",
   "id": "691bdb26",
   "metadata": {},
   "source": [
    "No column level expectations are in this suite. Feel free to add some here.\n",
    "\n",
    "They all begin with`validator.expect_column_...`.\n"
   ]
  },
  {
   "cell_type": "code",
   "execution_count": 3,
   "id": "f816c666",
   "metadata": {},
   "outputs": [
    {
     "data": {
      "application/vnd.jupyter.widget-view+json": {
       "model_id": "d91b005360024a369eea35aa1c19851a",
       "version_major": 2,
       "version_minor": 0
      },
      "text/plain": [
       "Calculating Metrics:   0%|          | 0/8 [00:00<?, ?it/s]"
      ]
     },
     "metadata": {},
     "output_type": "display_data"
    },
    {
     "data": {
      "text/plain": [
       "{\n",
       "  \"success\": true,\n",
       "  \"exception_info\": {\n",
       "    \"raised_exception\": false,\n",
       "    \"exception_traceback\": null,\n",
       "    \"exception_message\": null\n",
       "  },\n",
       "  \"result\": {\n",
       "    \"element_count\": 1750,\n",
       "    \"unexpected_count\": 0,\n",
       "    \"unexpected_percent\": 0.0,\n",
       "    \"partial_unexpected_list\": []\n",
       "  },\n",
       "  \"meta\": {}\n",
       "}"
      ]
     },
     "execution_count": 3,
     "metadata": {},
     "output_type": "execute_result"
    }
   ],
   "source": [
    "validator.expect_column_values_to_not_be_null(column='record_id')"
   ]
  },
  {
   "cell_type": "markdown",
   "id": "30c2dd99",
   "metadata": {},
   "source": [
    "## Review & Save Your Expectations\n",
    "\n",
    "Let's save the expectation suite as a JSON file in the `great_expectations/expectations` directory of your project.\n",
    "\n",
    "Let's now rebuild your Data Docs, which helps you communicate about your data with both machines and humans."
   ]
  },
  {
   "cell_type": "code",
   "execution_count": 4,
   "id": "5a6e5c74",
   "metadata": {},
   "outputs": [
    {
     "name": "stdout",
     "output_type": "stream",
     "text": [
      "2023-03-06T21:55:58+0000 - INFO - \t2 expectation(s) included in expectation_suite.\n",
      "{\n",
      "  \"meta\": {\n",
      "    \"citations\": [\n",
      "      {\n",
      "        \"batch_request\": {\n",
      "          \"data_asset_name\": \"wcd_de_final_flights.flight_status\",\n",
      "          \"data_connector_name\": \"default_inferred_data_connector_name\",\n",
      "          \"datasource_name\": \"wcd_de_final\",\n",
      "          \"limit\": 1000\n",
      "        },\n",
      "        \"citation_date\": \"2023-02-24T22:03:38.906096Z\",\n",
      "        \"comment\": \"Created suite added via CLI\"\n",
      "      }\n",
      "    ],\n",
      "    \"great_expectations_version\": \"0.15.47\"\n",
      "  },\n",
      "  \"ge_cloud_id\": null,\n",
      "  \"expectations\": [\n",
      "    {\n",
      "      \"kwargs\": {\n",
      "        \"min_value\": 1,\n",
      "        \"max_value\": 100000\n",
      "      },\n",
      "      \"expectation_type\": \"expect_table_column_count_to_be_between\",\n",
      "      \"meta\": {}\n",
      "    },\n",
      "    {\n",
      "      \"kwargs\": {\n",
      "        \"column\": \"record_id\"\n",
      "      },\n",
      "      \"expectation_type\": \"expect_column_values_to_not_be_null\",\n",
      "      \"meta\": {}\n",
      "    }\n",
      "  ],\n",
      "  \"data_asset_type\": null,\n",
      "  \"expectation_suite_name\": \"wcd_de_final_flights.flight_status.warning\"\n",
      "}\n",
      "2023-03-06T21:55:58+0000 - INFO - \t2 expectation(s) included in expectation_suite.\n",
      "2023-03-06T21:55:58+0000 - INFO - \t2 expectation(s) included in expectation_suite.\n"
     ]
    },
    {
     "data": {
      "application/vnd.jupyter.widget-view+json": {
       "model_id": "856d3cd72f5049ba95ae3d18efdbc5b1",
       "version_major": 2,
       "version_minor": 0
      },
      "text/plain": [
       "Calculating Metrics:   0%|          | 0/9 [00:00<?, ?it/s]"
      ]
     },
     "metadata": {},
     "output_type": "display_data"
    }
   ],
   "source": [
    "print(validator.get_expectation_suite(discard_failed_expectations=False))\n",
    "validator.save_expectation_suite(discard_failed_expectations=False)\n",
    "\n",
    "checkpoint_config = {\n",
    "    \"class_name\": \"SimpleCheckpoint\",\n",
    "    \"validations\": [\n",
    "        {\n",
    "            \"batch_request\": batch_request,\n",
    "            \"expectation_suite_name\": expectation_suite_name\n",
    "        }\n",
    "    ]\n",
    "}\n",
    "checkpoint = SimpleCheckpoint(\n",
    "    f\"{validator.active_batch_definition.data_asset_name}_{expectation_suite_name}\",\n",
    "    context,\n",
    "    **checkpoint_config\n",
    ")\n",
    "checkpoint_result = checkpoint.run()\n",
    "\n",
    "context.build_data_docs()\n",
    "\n",
    "validation_result_identifier = checkpoint_result.list_validation_result_identifiers()[0]\n",
    "context.open_data_docs(resource_identifier=validation_result_identifier)"
   ]
  }
 ],
 "metadata": {
  "kernelspec": {
   "display_name": "Python 3 (ipykernel)",
   "language": "python",
   "name": "python3"
  },
  "language_info": {
   "codemirror_mode": {
    "name": "ipython",
    "version": 3
   },
   "file_extension": ".py",
   "mimetype": "text/x-python",
   "name": "python",
   "nbconvert_exporter": "python",
   "pygments_lexer": "ipython3",
   "version": "3.7.16"
  }
 },
 "nbformat": 4,
 "nbformat_minor": 5
}
